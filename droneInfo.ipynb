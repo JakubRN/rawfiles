{
 "cells": [
  {
   "cell_type": "code",
   "execution_count": 10,
   "metadata": {},
   "outputs": [
    {
     "name": "stdout",
     "output_type": "stream",
     "text": [
      "Starting copter simulator (SITL)\n",
      "SITL already Downloaded and Extracted.\n",
      "Ready to boot.\n"
     ]
    }
   ],
   "source": [
    "import dronekit_sitl\n",
    "sitl = dronekit_sitl.start_default()\n",
    "connection_string = sitl.connection_string()"
   ]
  },
  {
   "cell_type": "code",
   "execution_count": 1,
   "metadata": {},
   "outputs": [],
   "source": [
    "connection_string = '/dev/ttyTHS1'"
   ]
  },
  {
   "cell_type": "code",
   "execution_count": 3,
   "metadata": {},
   "outputs": [
    {
     "data": {
      "text/plain": [
       "'/dev/ttyTHS1'"
      ]
     },
     "execution_count": 3,
     "metadata": {},
     "output_type": "execute_result"
    }
   ],
   "source": [
    "connection_string"
   ]
  },
  {
   "cell_type": "code",
   "execution_count": 5,
   "metadata": {},
   "outputs": [
    {
     "name": "stderr",
     "output_type": "stream",
     "text": [
      "CRITICAL:autopilot:Data link lost\n"
     ]
    },
    {
     "name": "stdout",
     "output_type": "stream",
     "text": [
      "Connecting to vehicle on: /dev/ttyTHS1\n",
      "\n",
      "Get all vehicle attribute values:\n",
      " Autopilot Firmware version: PX4Copter-1.9.0\n",
      "   Major version number: 1\n",
      "   Minor version number: 9\n",
      "   Patch version number: 0\n",
      "   Release type: rc\n",
      "   Release version: 0\n",
      "   Stable release?: True\n",
      " Autopilot capabilities\n",
      "   Supports MISSION_FLOAT message type: True\n",
      "   Supports PARAM_FLOAT message type: True\n",
      "   Supports MISSION_INT message type: True\n",
      "   Supports COMMAND_INT message type: True\n",
      "   Supports PARAM_UNION message type: False\n",
      "   Supports ftp for file transfers: True\n",
      "   Supports commanding attitude offboard: True\n",
      "   Supports commanding position and velocity targets in local NED frame: True\n",
      "   Supports set position + velocity targets in global scaled integers: False\n",
      "   Supports terrain protocol / data handling: False\n",
      "   Supports direct actuator control: True\n",
      "   Supports the flight termination command: False\n",
      "   Supports mission_float message type: True\n",
      "   Supports onboard compass calibration: False\n",
      " Global Location: LocationGlobal:lat=None,lon=None,alt=None\n",
      " Global Location (relative altitude): LocationGlobalRelative:lat=None,lon=None,alt=None\n",
      " Local Location: LocationLocal:north=0.0,east=0.0,down=-0.3344731032848358\n",
      " Attitude: Attitude:pitch=0.01501136738806963,yaw=-0.21876220405101776,roll=0.006864455062896013\n",
      " Velocity: [None, None, None]\n",
      " GPS: GPSInfo:fix=0,num_sat=0\n",
      " Gimbal status: Gimbal: pitch=None, roll=None, yaw=None\n",
      " Battery: Battery:voltage=14.811,current=0.0,level=60\n",
      " EKF OK?: False\n",
      " Last Heartbeat: 1.000332608000008\n",
      " Rangefinder: Rangefinder: distance=None, voltage=None\n",
      " Rangefinder distance: None\n",
      " Rangefinder voltage: None\n",
      " Heading: 347\n",
      " Is Armable?: False\n",
      " System status: STANDBY\n",
      " Groundspeed: 0.001453855657018721\n",
      " Airspeed: 0.0\n",
      " Mode: MANUAL\n",
      " Armed: False\n"
     ]
    }
   ],
   "source": [
    "# Import DroneKit-Python\n",
    "from dronekit import connect, VehicleMode\n",
    "\n",
    "# Connect to the Vehicle.\n",
    "print(\"Connecting to vehicle on: %s\" % (connection_string,))\n",
    "vehicle = connect(connection_string, wait_ready=True, baud=921600)\n",
    "\n",
    "# Get some vehicle attributes (state)\n",
    "print(\"\\nGet all vehicle attribute values:\")\n",
    "print(\" Autopilot Firmware version: %s\" % vehicle.version)\n",
    "print(\"   Major version number: %s\" % vehicle.version.major)\n",
    "print(\"   Minor version number: %s\" % vehicle.version.minor)\n",
    "print(\"   Patch version number: %s\" % vehicle.version.patch)\n",
    "print(\"   Release type: %s\" % vehicle.version.release_type())\n",
    "print(\"   Release version: %s\" % vehicle.version.release_version())\n",
    "print(\"   Stable release?: %s\" % vehicle.version.is_stable())\n",
    "print(\" Autopilot capabilities\")\n",
    "print(\"   Supports MISSION_FLOAT message type: %s\" % vehicle.capabilities.mission_float)\n",
    "print(\"   Supports PARAM_FLOAT message type: %s\" % vehicle.capabilities.param_float)\n",
    "print(\"   Supports MISSION_INT message type: %s\" % vehicle.capabilities.mission_int)\n",
    "print(\"   Supports COMMAND_INT message type: %s\" % vehicle.capabilities.command_int)\n",
    "print(\"   Supports PARAM_UNION message type: %s\" % vehicle.capabilities.param_union)\n",
    "print(\"   Supports ftp for file transfers: %s\" % vehicle.capabilities.ftp)\n",
    "print(\"   Supports commanding attitude offboard: %s\" % vehicle.capabilities.set_attitude_target)\n",
    "print(\"   Supports commanding position and velocity targets in local NED frame: %s\" % vehicle.capabilities.set_attitude_target_local_ned)\n",
    "print(\"   Supports set position + velocity targets in global scaled integers: %s\" % vehicle.capabilities.set_altitude_target_global_int)\n",
    "print(\"   Supports terrain protocol / data handling: %s\" % vehicle.capabilities.terrain)\n",
    "print(\"   Supports direct actuator control: %s\" % vehicle.capabilities.set_actuator_target)\n",
    "print(\"   Supports the flight termination command: %s\" % vehicle.capabilities.flight_termination)\n",
    "print(\"   Supports mission_float message type: %s\" % vehicle.capabilities.mission_float)\n",
    "print(\"   Supports onboard compass calibration: %s\" % vehicle.capabilities.compass_calibration)\n",
    "print(\" Global Location: %s\" % vehicle.location.global_frame)\n",
    "print(\" Global Location (relative altitude): %s\" % vehicle.location.global_relative_frame)\n",
    "print(\" Local Location: %s\" % vehicle.location.local_frame)\n",
    "print(\" Attitude: %s\" % vehicle.attitude)\n",
    "print(\" Velocity: %s\" % vehicle.velocity)\n",
    "print(\" GPS: %s\" % vehicle.gps_0)\n",
    "print(\" Gimbal status: %s\" % vehicle.gimbal)\n",
    "print(\" Battery: %s\" % vehicle.battery)\n",
    "print(\" EKF OK?: %s\" % vehicle.ekf_ok)\n",
    "print(\" Last Heartbeat: %s\" % vehicle.last_heartbeat)\n",
    "print(\" Rangefinder: %s\" % vehicle.rangefinder)\n",
    "print(\" Rangefinder distance: %s\" % vehicle.rangefinder.distance)\n",
    "print(\" Rangefinder voltage: %s\" % vehicle.rangefinder.voltage)\n",
    "print(\" Heading: %s\" % vehicle.heading)\n",
    "print(\" Is Armable?: %s\" % vehicle.is_armable)\n",
    "print(\" System status: %s\" % vehicle.system_status.state)\n",
    "print(\" Groundspeed: %s\" % vehicle.groundspeed)    # settable\n",
    "print(\" Airspeed: %s\" % vehicle.airspeed)    # settable\n",
    "print(\" Mode: %s\" % vehicle.mode.name)    # settable\n",
    "print(\" Armed: %s\" % vehicle.armed)    # settable\n",
    "\n"
   ]
  },
  {
   "cell_type": "code",
   "execution_count": null,
   "metadata": {},
   "outputs": [],
   "source": [
    "def arm_and_takeoff(aTargetAltitude):\n",
    "    \"\"\"\n",
    "    Arms vehicle and fly to aTargetAltitude.\n",
    "    \"\"\"\n",
    "\n",
    "    print(\"Basic pre-arm checks\")\n",
    "    # Don't try to arm until autopilot is ready\n",
    "    while not vehicle.is_armable:\n",
    "        print(\" Waiting for vehicle to initialise...\")\n",
    "        time.sleep(1)\n",
    "\n",
    "    print(\"Arming motors\")\n",
    "    # Copter should arm in GUIDED mode\n",
    "    vehicle.mode = VehicleMode(\"GUIDED\")\n",
    "    vehicle.armed = True\n",
    "\n",
    "    # Confirm vehicle armed before attempting to take off\n",
    "    while not vehicle.armed:\n",
    "        print(\" Waiting for arming...\")\n",
    "        time.sleep(1)\n",
    "\n",
    "    print(\"Taking off!\")\n",
    "    vehicle.simple_takeoff(aTargetAltitude)  # Take off to target altitude\n",
    "\n",
    "    # Wait until the vehicle reaches a safe height before processing the goto\n",
    "    #  (otherwise the command after Vehicle.simple_takeoff will execute\n",
    "    #   immediately).\n",
    "    while True:\n",
    "        print(\" Altitude: \", vehicle.location.global_relative_frame.alt)\n",
    "        # Break and return from function just below target altitude.\n",
    "        if vehicle.location.global_relative_frame.alt >= aTargetAltitude * 0.95:\n",
    "            print(\"Reached target altitude\")\n",
    "            break\n",
    "        time.sleep(1)\n"
   ]
  },
  {
   "cell_type": "code",
   "execution_count": null,
   "metadata": {},
   "outputs": [],
   "source": [
    "def goto(dNorth, dEast, gotoFunction=vehicle.simple_goto):\n",
    "    currentLocation=vehicle.location.global_relative_frame\n",
    "    targetLocation=get_location_metres(currentLocation, dNorth, dEast)\n",
    "    targetDistance=get_distance_metres(currentLocation, targetLocation)\n",
    "    gotoFunction(targetLocation)\n",
    "\n",
    "    while vehicle.mode.name==\"GUIDED\": #Stop action if we are no longer in guided mode.\n",
    "        remainingDistance=get_distance_metres(vehicle.location.global_frame, targetLocation)\n",
    "        print \"Distance to target: \", remainingDistance\n",
    "        if remainingDistance<=targetDistance*0.01: #Just below target, in case of undershoot.\n",
    "            print \"Reached target\"\n",
    "            break;\n",
    "        time.sleep(2)"
   ]
  },
  {
   "cell_type": "code",
   "execution_count": null,
   "metadata": {},
   "outputs": [],
   "source": [
    "def goto_position_target_local_ned(north, east, down):\n",
    "    \"\"\"\n",
    "    Send SET_POSITION_TARGET_LOCAL_NED command to request the vehicle fly to a specified\n",
    "    location in the North, East, Down frame.\n",
    "    \"\"\"\n",
    "    msg = vehicle.message_factory.set_position_target_local_ned_encode(\n",
    "        0,       # time_boot_ms (not used)\n",
    "        0, 0,    # target system, target component\n",
    "        mavutil.mavlink.MAV_FRAME_LOCAL_NED, # frame\n",
    "        0b0000111111111000, # type_mask (only positions enabled)\n",
    "        north, east, down,\n",
    "        0, 0, 0, # x, y, z velocity in m/s  (not used)\n",
    "        0, 0, 0, # x, y, z acceleration (not supported yet, ignored in GCS_Mavlink)\n",
    "        0, 0)    # yaw, yaw_rate (not supported yet, ignored in GCS_Mavlink)\n",
    "    # send command to vehicle\n",
    "    vehicle.send_mavlink(msg)"
   ]
  },
  {
   "cell_type": "code",
   "execution_count": null,
   "metadata": {},
   "outputs": [],
   "source": [
    "arm_and_takeoff(5)"
   ]
  },
  {
   "cell_type": "code",
   "execution_count": null,
   "metadata": {},
   "outputs": [],
   "source": [
    "goto(5,0)"
   ]
  },
  {
   "cell_type": "code",
   "execution_count": null,
   "metadata": {},
   "outputs": [],
   "source": [
    "goto(0,5)"
   ]
  },
  {
   "cell_type": "code",
   "execution_count": null,
   "metadata": {},
   "outputs": [],
   "source": [
    "print(\"Returning to Launch\")\n",
    "vehicle.mode = VehicleMode(\"RTL\")"
   ]
  },
  {
   "cell_type": "code",
   "execution_count": 6,
   "metadata": {},
   "outputs": [],
   "source": [
    "vehicle.close()"
   ]
  },
  {
   "cell_type": "code",
   "execution_count": 8,
   "metadata": {},
   "outputs": [
    {
     "name": "stdout",
     "output_type": "stream",
     "text": [
      "Completed\n"
     ]
    }
   ],
   "source": [
    "# Shut down simulator\n",
    "sitl.stop()\n",
    "print(\"Completed\")"
   ]
  },
  {
   "cell_type": "code",
   "execution_count": null,
   "metadata": {},
   "outputs": [],
   "source": []
  }
 ],
 "metadata": {
  "kernelspec": {
   "display_name": "Python 3",
   "language": "python",
   "name": "python3"
  },
  "language_info": {
   "codemirror_mode": {
    "name": "ipython",
    "version": 3
   },
   "file_extension": ".py",
   "mimetype": "text/x-python",
   "name": "python",
   "nbconvert_exporter": "python",
   "pygments_lexer": "ipython3",
   "version": "3.6.7"
  }
 },
 "nbformat": 4,
 "nbformat_minor": 4
}
