{
 "cells": [
  {
   "cell_type": "code",
   "execution_count": 10,
   "metadata": {},
   "outputs": [
    {
     "name": "stdout",
     "output_type": "stream",
     "text": [
      "Starting copter simulator (SITL)\n",
      "SITL already Downloaded and Extracted.\n",
      "Ready to boot.\n"
     ]
    }
   ],
   "source": [
    "import dronekit_sitl\n",
    "sitl = dronekit_sitl.start_default()\n",
    "connection_string = sitl.connection_string()"
   ]
  },
  {
   "cell_type": "code",
   "execution_count": 11,
   "metadata": {},
   "outputs": [
    {
     "name": "stdout",
     "output_type": "stream",
     "text": [
      "Connecting to vehicle on: tcp:127.0.0.1:5780\n"
     ]
    },
    {
     "name": "stderr",
     "output_type": "stream",
     "text": [
      "CRITICAL:autopilot:APM:Copter V3.3 (d6053245)\n",
      "CRITICAL:autopilot:Frame: QUAD\n",
      "CRITICAL:autopilot:Calibrating barometer\n",
      "CRITICAL:autopilot:Initialising APM...\n",
      "CRITICAL:autopilot:barometer calibration complete\n",
      "CRITICAL:autopilot:GROUND START\n"
     ]
    },
    {
     "name": "stdout",
     "output_type": "stream",
     "text": [
      "\n",
      "Get all vehicle attribute values:\n",
      " Autopilot Firmware version: APM:Copter-3.3.0\n",
      "   Major version number: 3\n",
      "   Minor version number: 3\n",
      "   Patch version number: 0\n",
      "   Release type: rc\n",
      "   Release version: 0\n",
      "   Stable release?: True\n",
      " Autopilot capabilities\n",
      "   Supports MISSION_FLOAT message type: True\n",
      "   Supports PARAM_FLOAT message type: True\n",
      "   Supports MISSION_INT message type: False\n",
      "   Supports COMMAND_INT message type: False\n",
      "   Supports PARAM_UNION message type: False\n",
      "   Supports ftp for file transfers: False\n",
      "   Supports commanding attitude offboard: False\n",
      "   Supports commanding position and velocity targets in local NED frame: True\n",
      "   Supports set position + velocity targets in global scaled integers: True\n",
      "   Supports terrain protocol / data handling: True\n",
      "   Supports direct actuator control: False\n",
      "   Supports the flight termination command: True\n",
      "   Supports mission_float message type: True\n",
      "   Supports onboard compass calibration: False\n",
      " Global Location: LocationGlobal:lat=-35.363261,lon=149.1652299,alt=None\n",
      " Global Location (relative altitude): LocationGlobalRelative:lat=-35.363261,lon=149.1652299,alt=0.0\n",
      " Local Location: LocationLocal:north=None,east=None,down=None\n",
      " Attitude: Attitude:pitch=0.0006954972050152719,yaw=-0.12100941687822342,roll=0.00013121739902999252\n",
      " Velocity: [0.0, 0.0, 0.0]\n",
      " GPS: GPSInfo:fix=3,num_sat=10\n",
      " Gimbal status: Gimbal: pitch=None, roll=None, yaw=None\n",
      " Battery: Battery:voltage=12.587,current=0.0,level=100\n",
      " EKF OK?: False\n",
      " Last Heartbeat: 0.765999999945052\n",
      " Rangefinder: Rangefinder: distance=None, voltage=None\n",
      " Rangefinder distance: None\n",
      " Rangefinder voltage: None\n",
      " Heading: 353\n",
      " Is Armable?: False\n",
      " System status: STANDBY\n",
      " Groundspeed: 0.0\n",
      " Airspeed: 0.0\n",
      " Mode: STABILIZE\n",
      " Armed: False\n"
     ]
    }
   ],
   "source": [
    "# Import DroneKit-Python\n",
    "from dronekit import connect, VehicleMode\n",
    "\n",
    "# Connect to the Vehicle.\n",
    "print(\"Connecting to vehicle on: %s\" % (connection_string,))\n",
    "vehicle = connect(connection_string, wait_ready=True)\n",
    "\n",
    "# Get some vehicle attributes (state)\n",
    "print(\"\\nGet all vehicle attribute values:\")\n",
    "print(\" Autopilot Firmware version: %s\" % vehicle.version)\n",
    "print(\"   Major version number: %s\" % vehicle.version.major)\n",
    "print(\"   Minor version number: %s\" % vehicle.version.minor)\n",
    "print(\"   Patch version number: %s\" % vehicle.version.patch)\n",
    "print(\"   Release type: %s\" % vehicle.version.release_type())\n",
    "print(\"   Release version: %s\" % vehicle.version.release_version())\n",
    "print(\"   Stable release?: %s\" % vehicle.version.is_stable())\n",
    "print(\" Autopilot capabilities\")\n",
    "print(\"   Supports MISSION_FLOAT message type: %s\" % vehicle.capabilities.mission_float)\n",
    "print(\"   Supports PARAM_FLOAT message type: %s\" % vehicle.capabilities.param_float)\n",
    "print(\"   Supports MISSION_INT message type: %s\" % vehicle.capabilities.mission_int)\n",
    "print(\"   Supports COMMAND_INT message type: %s\" % vehicle.capabilities.command_int)\n",
    "print(\"   Supports PARAM_UNION message type: %s\" % vehicle.capabilities.param_union)\n",
    "print(\"   Supports ftp for file transfers: %s\" % vehicle.capabilities.ftp)\n",
    "print(\"   Supports commanding attitude offboard: %s\" % vehicle.capabilities.set_attitude_target)\n",
    "print(\"   Supports commanding position and velocity targets in local NED frame: %s\" % vehicle.capabilities.set_attitude_target_local_ned)\n",
    "print(\"   Supports set position + velocity targets in global scaled integers: %s\" % vehicle.capabilities.set_altitude_target_global_int)\n",
    "print(\"   Supports terrain protocol / data handling: %s\" % vehicle.capabilities.terrain)\n",
    "print(\"   Supports direct actuator control: %s\" % vehicle.capabilities.set_actuator_target)\n",
    "print(\"   Supports the flight termination command: %s\" % vehicle.capabilities.flight_termination)\n",
    "print(\"   Supports mission_float message type: %s\" % vehicle.capabilities.mission_float)\n",
    "print(\"   Supports onboard compass calibration: %s\" % vehicle.capabilities.compass_calibration)\n",
    "print(\" Global Location: %s\" % vehicle.location.global_frame)\n",
    "print(\" Global Location (relative altitude): %s\" % vehicle.location.global_relative_frame)\n",
    "print(\" Local Location: %s\" % vehicle.location.local_frame)\n",
    "print(\" Attitude: %s\" % vehicle.attitude)\n",
    "print(\" Velocity: %s\" % vehicle.velocity)\n",
    "print(\" GPS: %s\" % vehicle.gps_0)\n",
    "print(\" Gimbal status: %s\" % vehicle.gimbal)\n",
    "print(\" Battery: %s\" % vehicle.battery)\n",
    "print(\" EKF OK?: %s\" % vehicle.ekf_ok)\n",
    "print(\" Last Heartbeat: %s\" % vehicle.last_heartbeat)\n",
    "print(\" Rangefinder: %s\" % vehicle.rangefinder)\n",
    "print(\" Rangefinder distance: %s\" % vehicle.rangefinder.distance)\n",
    "print(\" Rangefinder voltage: %s\" % vehicle.rangefinder.voltage)\n",
    "print(\" Heading: %s\" % vehicle.heading)\n",
    "print(\" Is Armable?: %s\" % vehicle.is_armable)\n",
    "print(\" System status: %s\" % vehicle.system_status.state)\n",
    "print(\" Groundspeed: %s\" % vehicle.groundspeed)    # settable\n",
    "print(\" Airspeed: %s\" % vehicle.airspeed)    # settable\n",
    "print(\" Mode: %s\" % vehicle.mode.name)    # settable\n",
    "print(\" Armed: %s\" % vehicle.armed)    # settable\n",
    "\n",
    "# Close vehicle object before exiting script\n",
    "vehicle.close()\n",
    "\n"
   ]
  },
  {
   "cell_type": "code",
   "execution_count": 7,
   "metadata": {},
   "outputs": [],
   "source": [
    "vehicle.close()"
   ]
  },
  {
   "cell_type": "code",
   "execution_count": 8,
   "metadata": {},
   "outputs": [
    {
     "name": "stdout",
     "output_type": "stream",
     "text": [
      "Completed\n"
     ]
    }
   ],
   "source": [
    "# Shut down simulator\n",
    "sitl.stop()\n",
    "print(\"Completed\")"
   ]
  },
  {
   "cell_type": "code",
   "execution_count": null,
   "metadata": {},
   "outputs": [],
   "source": []
  }
 ],
 "metadata": {
  "kernelspec": {
   "display_name": "Python 3",
   "language": "python",
   "name": "python3"
  },
  "language_info": {
   "codemirror_mode": {
    "name": "ipython",
    "version": 3
   },
   "file_extension": ".py",
   "mimetype": "text/x-python",
   "name": "python",
   "nbconvert_exporter": "python",
   "pygments_lexer": "ipython3",
   "version": "3.7.4"
  }
 },
 "nbformat": 4,
 "nbformat_minor": 2
}
